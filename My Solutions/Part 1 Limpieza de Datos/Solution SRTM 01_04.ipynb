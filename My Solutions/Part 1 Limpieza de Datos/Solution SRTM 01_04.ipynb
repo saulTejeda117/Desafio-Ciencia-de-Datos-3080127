{
 "cells": [
  {
   "cell_type": "markdown",
   "metadata": {},
   "source": [
    "# Instrucciones"
   ]
  },
  {
   "cell_type": "markdown",
   "metadata": {},
   "source": [
    "\"Averiguar si el dataframe contiene filas duplicadas\""
   ]
  },
  {
   "cell_type": "code",
   "execution_count": 1,
   "metadata": {},
   "outputs": [],
   "source": [
    "import pandas as pd"
   ]
  },
  {
   "cell_type": "code",
   "execution_count": 2,
   "metadata": {},
   "outputs": [],
   "source": [
    "df = pd.read_csv('empleados.csv', delimiter=\";\")"
   ]
  },
  {
   "cell_type": "code",
   "execution_count": 3,
   "metadata": {},
   "outputs": [
    {
     "name": "stdout",
     "output_type": "stream",
     "text": [
      "(251, 9)\n"
     ]
    }
   ],
   "source": [
    "print(df.shape)"
   ]
  },
  {
   "cell_type": "code",
   "execution_count": 5,
   "metadata": {
    "scrolled": true
   },
   "outputs": [
    {
     "name": "stdout",
     "output_type": "stream",
     "text": [
      "    Nombre  Apellido       Sexo Estado_Civil  Edad  Experiencia  Salario  \\\n",
      "14  Selena       NaN   Femenino    Casado(a)  24.0          6.0   2709.0   \n",
      "65   Lucio       NaN  Masculino   Soltero(a)  54.0         12.0   3317.0   \n",
      "\n",
      "   Gerencia      Departamento  \n",
      "14       Sí      Contabilidad  \n",
      "65       No  Recursos Humanos  \n"
     ]
    }
   ],
   "source": [
    "# Verifica si hay filas duplicadas\n",
    "duplicates = df.duplicated()\n",
    "\n",
    "# Se imprimen los registros duplicados\n",
    "duplicated_rows = df[duplicates]\n",
    "print(duplicated_rows)"
   ]
  },
  {
   "cell_type": "code",
   "execution_count": null,
   "metadata": {},
   "outputs": [],
   "source": []
  }
 ],
 "metadata": {
  "kernelspec": {
   "display_name": "Python 3",
   "language": "python",
   "name": "python3"
  },
  "language_info": {
   "codemirror_mode": {
    "name": "ipython",
    "version": 3
   },
   "file_extension": ".py",
   "mimetype": "text/x-python",
   "name": "python",
   "nbconvert_exporter": "python",
   "pygments_lexer": "ipython3",
   "version": "3.8.5"
  }
 },
 "nbformat": 4,
 "nbformat_minor": 4
}
