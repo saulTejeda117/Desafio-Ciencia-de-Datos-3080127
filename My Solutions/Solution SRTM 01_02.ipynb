{
 "cells": [
  {
   "cell_type": "markdown",
   "metadata": {},
   "source": [
    "# Instrucciones"
   ]
  },
  {
   "cell_type": "markdown",
   "metadata": {},
   "source": [
    "\"Identificar la columna que tiene muchos valores nulos y eliminar dicha columna de nuestro dataframe\""
   ]
  },
  {
   "cell_type": "code",
   "execution_count": 1,
   "metadata": {},
   "outputs": [],
   "source": [
    "import pandas as pd"
   ]
  },
  {
   "cell_type": "code",
   "execution_count": 2,
   "metadata": {},
   "outputs": [],
   "source": [
    "df = pd.read_csv('empleados.csv', delimiter=\";\")"
   ]
  },
  {
   "cell_type": "code",
   "execution_count": 3,
   "metadata": {},
   "outputs": [
    {
     "name": "stdout",
     "output_type": "stream",
     "text": [
      "        Nombre  Apellido       Sexo   Estado_Civil  Edad  Experiencia  \\\n",
      "0    Alexandro       NaN  Masculino     Soltero(a)  22.0          3.0   \n",
      "1       Carlos       NaN  Masculino      Casado(a)  38.0         10.0   \n",
      "2       Felipa       NaN   Femenino     Soltero(a)  26.0          5.0   \n",
      "3       Daniel       NaN  Masculino      Casado(a)  35.0         10.0   \n",
      "4         John       NaN  Masculino      Casado(a)  35.0         13.0   \n",
      "..         ...       ...        ...            ...   ...          ...   \n",
      "246       Jose       NaN  Masculino      Casado(a)  30.0          6.0   \n",
      "247    Marcelo       NaN  Masculino  Divorciado(a)  44.0         15.0   \n",
      "248       Eric       NaN        NaN      Casado(a)  25.0          7.0   \n",
      "249       Marc       NaN        NaN      Casado(a)  24.0          2.0   \n",
      "250    Leandro       NaN  Masculino      Casado(a)  37.0         11.0   \n",
      "\n",
      "     Salario Gerencia          Departamento  \n",
      "0     2423.0       No            Publicidad  \n",
      "1     3132.0       Sí                   NaN  \n",
      "2     2639.0       No             Comercial  \n",
      "3     3122.0       No             Comercial  \n",
      "4     3431.0       Sí  Servicios al cliente  \n",
      "..       ...      ...                   ...  \n",
      "246   2760.0       No  Servicios al cliente  \n",
      "247   3616.0       No                    IT  \n",
      "248   2880.0       Sí      Recursos Humanos  \n",
      "249   2172.0       No              Producto  \n",
      "250   3245.0       No              Finanzas  \n",
      "\n",
      "[251 rows x 9 columns]\n",
      "(251, 9)\n"
     ]
    }
   ],
   "source": [
    "# Primero mostramos la forma de los datos que recibimos\n",
    "print(df)\n",
    "print(df.shape)"
   ]
  },
  {
   "cell_type": "code",
   "execution_count": 4,
   "metadata": {},
   "outputs": [
    {
     "name": "stdout",
     "output_type": "stream",
     "text": [
      "Nombre            6\n",
      "Apellido        251\n",
      "Sexo             37\n",
      "Estado_Civil      4\n",
      "Edad             61\n",
      "Experiencia       4\n",
      "Salario           6\n",
      "Gerencia         21\n",
      "Departamento     12\n",
      "dtype: int64\n"
     ]
    }
   ],
   "source": [
    "# Se realiza la sumatoria del número de datos faltantes\n",
    "nan_counts = df.isnull().sum()\n",
    "print(nan_counts)"
   ]
  },
  {
   "cell_type": "code",
   "execution_count": 5,
   "metadata": {},
   "outputs": [
    {
     "name": "stdout",
     "output_type": "stream",
     "text": [
      "Column with the most NaN values: Apellido\n"
     ]
    }
   ],
   "source": [
    "# Se comparan los valores faltantes de cada columna\n",
    "max_nan = 0\n",
    "for column, count in nan_counts.iteritems():\n",
    "    if count > max_nan:\n",
    "        max_nan = count\n",
    "        max_column = column\n",
    "        \n",
    "print(f\"Column with the most NaN values: {max_column}\")"
   ]
  },
  {
   "cell_type": "code",
   "execution_count": 6,
   "metadata": {},
   "outputs": [],
   "source": [
    "# Se elimina la columna con mayor numero de datos faltantes\n",
    "df = df.drop(max_column, axis=1)"
   ]
  },
  {
   "cell_type": "code",
   "execution_count": 7,
   "metadata": {},
   "outputs": [
    {
     "name": "stdout",
     "output_type": "stream",
     "text": [
      "        Nombre       Sexo   Estado_Civil  Edad  Experiencia  Salario Gerencia  \\\n",
      "0    Alexandro  Masculino     Soltero(a)  22.0          3.0   2423.0       No   \n",
      "1       Carlos  Masculino      Casado(a)  38.0         10.0   3132.0       Sí   \n",
      "2       Felipa   Femenino     Soltero(a)  26.0          5.0   2639.0       No   \n",
      "3       Daniel  Masculino      Casado(a)  35.0         10.0   3122.0       No   \n",
      "4         John  Masculino      Casado(a)  35.0         13.0   3431.0       Sí   \n",
      "..         ...        ...            ...   ...          ...      ...      ...   \n",
      "246       Jose  Masculino      Casado(a)  30.0          6.0   2760.0       No   \n",
      "247    Marcelo  Masculino  Divorciado(a)  44.0         15.0   3616.0       No   \n",
      "248       Eric        NaN      Casado(a)  25.0          7.0   2880.0       Sí   \n",
      "249       Marc        NaN      Casado(a)  24.0          2.0   2172.0       No   \n",
      "250    Leandro  Masculino      Casado(a)  37.0         11.0   3245.0       No   \n",
      "\n",
      "             Departamento  \n",
      "0              Publicidad  \n",
      "1                     NaN  \n",
      "2               Comercial  \n",
      "3               Comercial  \n",
      "4    Servicios al cliente  \n",
      "..                    ...  \n",
      "246  Servicios al cliente  \n",
      "247                    IT  \n",
      "248      Recursos Humanos  \n",
      "249              Producto  \n",
      "250              Finanzas  \n",
      "\n",
      "[251 rows x 8 columns]\n",
      "(251, 8)\n"
     ]
    }
   ],
   "source": [
    "# Se muestra nuevamente la forma del dataframe\n",
    "print(df)\n",
    "print(df.shape)"
   ]
  }
 ],
 "metadata": {
  "kernelspec": {
   "display_name": "Python 3",
   "language": "python",
   "name": "python3"
  },
  "language_info": {
   "codemirror_mode": {
    "name": "ipython",
    "version": 3
   },
   "file_extension": ".py",
   "mimetype": "text/x-python",
   "name": "python",
   "nbconvert_exporter": "python",
   "pygments_lexer": "ipython3",
   "version": "3.8.5"
  }
 },
 "nbformat": 4,
 "nbformat_minor": 4
}
