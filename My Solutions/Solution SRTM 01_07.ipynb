{
 "cells": [
  {
   "cell_type": "markdown",
   "metadata": {},
   "source": [
    "# Instrucciones"
   ]
  },
  {
   "cell_type": "markdown",
   "metadata": {},
   "source": [
    "\"Utilizar la imputación de regresión para la columna de edad denuestro dataframe, la cual contiene valores vacíos\""
   ]
  },
  {
   "cell_type": "markdown",
   "metadata": {},
   "source": [
    "### Imputación de regresión: \n",
    "\n",
    "Es una técnica utilizada para reemplazar valores faltantes en un conjunto de datos mediante la predicción de esos valores, se utiliza un modelo de regresión basado en las variables disponibles para predecir el valor que falta."
   ]
  },
  {
   "cell_type": "code",
   "execution_count": 1,
   "metadata": {},
   "outputs": [],
   "source": [
    "import pandas as pd\n",
    "from sklearn.linear_model import LinearRegression"
   ]
  },
  {
   "cell_type": "code",
   "execution_count": 2,
   "metadata": {},
   "outputs": [
    {
     "name": "stdout",
     "output_type": "stream",
     "text": [
      "(191, 3)\n"
     ]
    }
   ],
   "source": [
    "df = pd.read_csv('empleados.csv', delimiter=\";\")\n",
    "print(df.shape)"
   ]
  },
  {
   "cell_type": "code",
   "execution_count": 3,
   "metadata": {},
   "outputs": [
    {
     "name": "stdout",
     "output_type": "stream",
     "text": [
      "Edad           46\n",
      "Experiencia     0\n",
      "Salario         0\n",
      "dtype: int64\n"
     ]
    }
   ],
   "source": [
    "print(df.isnull().sum())"
   ]
  },
  {
   "cell_type": "code",
   "execution_count": 4,
   "metadata": {},
   "outputs": [],
   "source": [
    "# Definición del modelo de regresión lineal\n",
    "regresion_lineal = LinearRegression()\n",
    "\n",
    "# Creación de datos de prueba\n",
    "datos_test = df[df['Edad'].isnull()==True]\n",
    "\n",
    "# Creación de datos de entrenamiento\n",
    "\n",
    "datos_entrenamiento = df[df['Edad'].isnull()==False]"
   ]
  },
  {
   "cell_type": "code",
   "execution_count": 5,
   "metadata": {},
   "outputs": [],
   "source": [
    "y_entrenamiento = datos_entrenamiento['Edad']\n",
    "x_entranamiento = datos_entrenamiento.drop(\"Edad\",axis=1)"
   ]
  },
  {
   "cell_type": "code",
   "execution_count": 6,
   "metadata": {},
   "outputs": [
    {
     "data": {
      "text/plain": [
       "LinearRegression()"
      ]
     },
     "execution_count": 6,
     "metadata": {},
     "output_type": "execute_result"
    }
   ],
   "source": [
    "regresion_lineal.fit(x_entranamiento,y_entrenamiento)"
   ]
  },
  {
   "cell_type": "code",
   "execution_count": 7,
   "metadata": {},
   "outputs": [],
   "source": [
    "datos_test = datos_test.drop(\"Edad\",axis=1)"
   ]
  },
  {
   "cell_type": "code",
   "execution_count": 8,
   "metadata": {},
   "outputs": [
    {
     "name": "stdout",
     "output_type": "stream",
     "text": [
      "[38.75882405 45.11533205 57.24087808 48.97973939 31.74032335 31.87681669\n",
      " 32.77139668 36.94973869 38.30839603 44.97201404 58.46986675 45.25865006\n",
      " 64.70353075 25.2342213  26.77031997 57.35007275 61.70585611 24.10132659\n",
      " 35.54330869 33.21500003 58.74967809 56.37359676 38.21967536 53.08301007\n",
      " 65.26315343 39.53056003 42.39801738 29.28234602 47.90089339 68.25345479\n",
      " 37.16812803 64.38222278 26.6815993  40.15160472 28.10850331 47.84629606\n",
      " 65.76135412 46.89029407 57.15215741 43.57240871 57.34324809 36.00056137\n",
      " 26.40861263 46.6992034  72.00866745 57.11120941]\n"
     ]
    }
   ],
   "source": [
    "predicciones = regresion_lineal.predict(datos_test)\n",
    "print(predicciones)\n",
    "datos_test['Edad'] = predicciones"
   ]
  },
  {
   "cell_type": "code",
   "execution_count": 9,
   "metadata": {},
   "outputs": [
    {
     "name": "stdout",
     "output_type": "stream",
     "text": [
      "     Experiencia  Salario       Edad\n",
      "13            10     3194  38.758824\n",
      "15            15     3635  45.115332\n",
      "18            24     4529  57.240878\n",
      "19            18     3907  48.979739\n",
      "20             5     2656  31.740323\n",
      "25             5     2676  31.876817\n",
      "29             6     2709  32.771397\n",
      "32             9     3027  36.949739\n",
      "33            10     3128  38.308396\n",
      "34            15     3614  44.972014\n",
      "35            25     4611  58.469867\n",
      "39            15     3656  45.258650\n",
      "47            30     5034  64.703531\n",
      "56             1     2095  25.234221\n",
      "57             2     2222  26.770320\n",
      "61            24     4545  57.350073\n",
      "65            27     4889  61.705856\n",
      "70             1     1929  24.101327\n",
      "75             8     2919  35.543309\n",
      "81             6     2774  33.215000\n",
      "96            25     4652  58.749678\n",
      "98            23     4500  56.373597\n",
      "109           10     3115  38.219675\n",
      "117           21     4214  53.083010\n",
      "120           30     5116  65.263153\n",
      "126           11     3209  39.530560\n",
      "128           13     3433  42.398017\n",
      "132            3     2492  29.282346\n",
      "134           17     3847  47.900893\n",
      "135           32     5358  68.253455\n",
      "136            9     3059  37.168128\n",
      "137           29     5085  64.382223\n",
      "140            2     2209  26.681599\n",
      "149           11     3300  40.151605\n",
      "151            3     2320  28.108503\n",
      "154           17     3839  47.846296\n",
      "156           30     5189  65.761354\n",
      "157           16     3797  46.890294\n",
      "158           24     4516  57.152157\n",
      "165           14     3507  43.572409\n",
      "171           24     4544  57.343248\n",
      "176            8     2986  36.000561\n",
      "178            2     2169  26.408613\n",
      "179           16     3769  46.699203\n",
      "181           35     5614  72.008667\n",
      "185           24     4510  57.111209\n"
     ]
    }
   ],
   "source": [
    "print(datos_test)"
   ]
  }
 ],
 "metadata": {
  "kernelspec": {
   "display_name": "Python 3",
   "language": "python",
   "name": "python3"
  },
  "language_info": {
   "codemirror_mode": {
    "name": "ipython",
    "version": 3
   },
   "file_extension": ".py",
   "mimetype": "text/x-python",
   "name": "python",
   "nbconvert_exporter": "python",
   "pygments_lexer": "ipython3",
   "version": "3.8.5"
  }
 },
 "nbformat": 4,
 "nbformat_minor": 4
}
