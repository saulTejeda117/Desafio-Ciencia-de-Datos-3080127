{
 "cells": [
  {
   "cell_type": "markdown",
   "metadata": {},
   "source": [
    "# Instrucciones\n"
   ]
  },
  {
   "cell_type": "markdown",
   "metadata": {},
   "source": [
    "\"Obtener el promedio de cada una de las columnas de nuestro dataframe, utilizando Python y la librería de Pandas\""
   ]
  },
  {
   "cell_type": "code",
   "execution_count": 1,
   "metadata": {},
   "outputs": [],
   "source": [
    "import pandas as pd"
   ]
  },
  {
   "cell_type": "code",
   "execution_count": 2,
   "metadata": {},
   "outputs": [
    {
     "name": "stdout",
     "output_type": "stream",
     "text": [
      "<class 'pandas.core.frame.DataFrame'>\n",
      "RangeIndex: 143 entries, 0 to 142\n",
      "Data columns (total 3 columns):\n",
      " #   Column       Non-Null Count  Dtype\n",
      "---  ------       --------------  -----\n",
      " 0   Edad         143 non-null    int64\n",
      " 1   Experiencia  143 non-null    int64\n",
      " 2   Salario      143 non-null    int64\n",
      "dtypes: int64(3)\n",
      "memory usage: 3.5 KB\n",
      "None\n"
     ]
    }
   ],
   "source": [
    "df = pd.read_csv('empleados.csv', delimiter=\";\")\n",
    "print(df.info())"
   ]
  },
  {
   "cell_type": "code",
   "execution_count": 3,
   "metadata": {},
   "outputs": [
    {
     "name": "stdout",
     "output_type": "stream",
     "text": [
      "(143, 3)\n"
     ]
    }
   ],
   "source": [
    "print(df.shape)"
   ]
  },
  {
   "cell_type": "code",
   "execution_count": 5,
   "metadata": {},
   "outputs": [],
   "source": [
    "# Definimos las variables de la función para sacar el promedio de las columnas\n",
    "rows = df.shape[0]\n",
    "promedio_columnas = []\n",
    "promedio = 0\n",
    "\n",
    "# Recibimos como parametro la columna que deseamos calcular su promedio\n",
    "def sacar_promedio(column):\n",
    "    suma_columna = 0\n",
    "    for value in range (rows):\n",
    "        suma_columna += df[column][value]\n",
    "    suma_columna = suma_columna/rows\n",
    "    # Devolvemos el promedio de la columna\n",
    "    return suma_columna"
   ]
  },
  {
   "cell_type": "code",
   "execution_count": 6,
   "metadata": {},
   "outputs": [],
   "source": [
    "# Iteramos la función del promedio por el número de columnas\n",
    "for column in df.columns:\n",
    "    promedio = sacar_promedio(column)\n",
    "    # Añadimos cada promedio a una lista de resultados\n",
    "    promedio_columnas.append(promedio)"
   ]
  },
  {
   "cell_type": "code",
   "execution_count": 8,
   "metadata": {},
   "outputs": [
    {
     "name": "stdout",
     "output_type": "stream",
     "text": [
      "Index(['Edad', 'Experiencia', 'Salario'], dtype='object')\n",
      "[33.7972027972028, 6.8671328671328675, 2778.6573426573427]\n"
     ]
    }
   ],
   "source": [
    "# Mostramos los resultados obtenidos\n",
    "print(df.columns)\n",
    "print(promedio_columnas)"
   ]
  }
 ],
 "metadata": {
  "kernelspec": {
   "display_name": "Python 3",
   "language": "python",
   "name": "python3"
  },
  "language_info": {
   "codemirror_mode": {
    "name": "ipython",
    "version": 3
   },
   "file_extension": ".py",
   "mimetype": "text/x-python",
   "name": "python",
   "nbconvert_exporter": "python",
   "pygments_lexer": "ipython3",
   "version": "3.8.5"
  }
 },
 "nbformat": 4,
 "nbformat_minor": 4
}
