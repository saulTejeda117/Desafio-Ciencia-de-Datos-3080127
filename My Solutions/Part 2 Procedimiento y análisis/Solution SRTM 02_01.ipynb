{
 "cells": [
  {
   "cell_type": "markdown",
   "metadata": {},
   "source": [
    "# Instrucciones"
   ]
  },
  {
   "cell_type": "markdown",
   "metadata": {},
   "source": [
    "\"Averiguar si existe una relación entre los años de experiencia laboral y el salario, utilizando Python y la librería de Pandas\""
   ]
  },
  {
   "cell_type": "code",
   "execution_count": 1,
   "metadata": {},
   "outputs": [],
   "source": [
    "import pandas as pd\n",
    "import seaborn as sns\n",
    "import matplotlib.pyplot as plt"
   ]
  },
  {
   "cell_type": "code",
   "execution_count": 2,
   "metadata": {},
   "outputs": [
    {
     "name": "stdout",
     "output_type": "stream",
     "text": [
      "<bound method NDFrame.head of         Nombre       Sexo   Estado_Civil  Edad  Experiencia  Salario Gerencia  \\\n",
      "0    Alexandro  Masculino     Soltero(a)    22            3     2423       No   \n",
      "1       Felipa   Femenino     Soltero(a)    26            5     2639       No   \n",
      "2       Daniel  Masculino      Casado(a)    35           10     3122       No   \n",
      "3         John  Masculino      Casado(a)    35           13     3431       Sí   \n",
      "4      Ruperta   Femenino      Casado(a)    54           18     3962       No   \n",
      "..         ...        ...            ...   ...          ...      ...      ...   \n",
      "138   Hernando  Masculino  Divorciado(a)    29            4     2510       No   \n",
      "139       Vito  Masculino  Divorciado(a)    22            4     2530       No   \n",
      "140       Jose  Masculino      Casado(a)    30            6     2760       No   \n",
      "141    Marcelo  Masculino  Divorciado(a)    44           15     3616       No   \n",
      "142    Leandro  Masculino      Casado(a)    37           11     3245       No   \n",
      "\n",
      "             Departamento  \n",
      "0              Publicidad  \n",
      "1               Comercial  \n",
      "2               Comercial  \n",
      "3    Servicios al cliente  \n",
      "4                Producto  \n",
      "..                    ...  \n",
      "138                    IT  \n",
      "139              Producto  \n",
      "140  Servicios al cliente  \n",
      "141                    IT  \n",
      "142              Finanzas  \n",
      "\n",
      "[143 rows x 8 columns]>\n"
     ]
    }
   ],
   "source": [
    "df = pd.read_csv('empleados.csv', delimiter=\";\")\n",
    "print(df.head)"
   ]
  },
  {
   "cell_type": "code",
   "execution_count": 3,
   "metadata": {},
   "outputs": [
    {
     "data": {
      "text/plain": [
       "0.9921693470596846"
      ]
     },
     "execution_count": 3,
     "metadata": {},
     "output_type": "execute_result"
    }
   ],
   "source": [
    "df['Experiencia'].corr(df['Salario'])"
   ]
  },
  {
   "cell_type": "code",
   "execution_count": 5,
   "metadata": {},
   "outputs": [
    {
     "data": {
      "text/plain": [
       "Text(0.5, 1.0, 'Correlation Heatmap')"
      ]
     },
     "execution_count": 5,
     "metadata": {},
     "output_type": "execute_result"
    },
    {
     "data": {
      "image/png": "[encoded data removed]",
      "text/plain": [
       "<Figure size 720x576 with 2 Axes>"
      ]
     },
     "metadata": {
      "needs_background": "light"
     },
     "output_type": "display_data"
    }
   ],
   "source": [
    "correlation_matrix = df.corr()\n",
    "\n",
    "plt.figure(figsize=(10, 8))\n",
    "sns.heatmap(correlation_matrix, annot=True, cmap='coolwarm', vmin=-1, vmax=1)\n",
    "plt.title('Correlation Heatmap')"
   ]
  }
 ],
 "metadata": {
  "kernelspec": {
   "display_name": "Python 3",
   "language": "python",
   "name": "python3"
  },
  "language_info": {
   "codemirror_mode": {
    "name": "ipython",
    "version": 3
   },
   "file_extension": ".py",
   "mimetype": "text/x-python",
   "name": "python",
   "nbconvert_exporter": "python",
   "pygments_lexer": "ipython3",
   "version": "3.8.5"
  }
 },
 "nbformat": 4,
 "nbformat_minor": 4
}
