{
 "cells": [
  {
   "cell_type": "markdown",
   "metadata": {},
   "source": [
    "# Instrucciones"
   ]
  },
  {
   "cell_type": "markdown",
   "metadata": {},
   "source": [
    "\"Cambiar el orden de las columnas, intercambiando la columna Consumo Ciudad por la columna Consumo Autopista.\""
   ]
  },
  {
   "cell_type": "code",
   "execution_count": 1,
   "metadata": {},
   "outputs": [],
   "source": [
    "import pandas as pd"
   ]
  },
  {
   "cell_type": "code",
   "execution_count": 2,
   "metadata": {},
   "outputs": [],
   "source": [
    "df = pd.read_csv('emisiones.csv', delimiter=\";\")"
   ]
  },
  {
   "cell_type": "code",
   "execution_count": 3,
   "metadata": {},
   "outputs": [
    {
     "name": "stdout",
     "output_type": "stream",
     "text": [
      "   Motor  Cilindros  Consumo Ciudad  Consumo Autopista  CO2\n",
      "0    2.1          4            13.7                9.1  290\n",
      "1    2.6          4            12.7                8.6  327\n",
      "2    2.0          4            13.7                9.4  382\n",
      "3    4.3          4            14.3                9.0  347\n",
      "4    3.6          4            14.6               10.4  377\n"
     ]
    }
   ],
   "source": [
    "print(df.head(5))"
   ]
  },
  {
   "cell_type": "code",
   "execution_count": 4,
   "metadata": {},
   "outputs": [],
   "source": [
    "# Definimos una lista con el nuevo orden de las columnas\n",
    "nuevo_orden_columnas = ['Motor', 'Cilindros', \n",
    "                        'Consumo Autopista', \n",
    "                        'Consumo Ciudad', 'CO2']\n",
    "# Lo aplicamos en el dataframe\n",
    "df = df[nuevo_orden_columnas]"
   ]
  },
  {
   "cell_type": "code",
   "execution_count": 5,
   "metadata": {},
   "outputs": [
    {
     "name": "stdout",
     "output_type": "stream",
     "text": [
      "   Motor  Cilindros  Consumo Autopista  Consumo Ciudad  CO2\n",
      "0    2.1          4                9.1            13.7  290\n",
      "1    2.6          4                8.6            12.7  327\n",
      "2    2.0          4                9.4            13.7  382\n",
      "3    4.3          4                9.0            14.3  347\n",
      "4    3.6          4               10.4            14.6  377\n"
     ]
    }
   ],
   "source": [
    "# Imprimimos el resultado\n",
    "print(df.head(5))"
   ]
  }
 ],
 "metadata": {
  "kernelspec": {
   "display_name": "Python 3",
   "language": "python",
   "name": "python3"
  },
  "language_info": {
   "codemirror_mode": {
    "name": "ipython",
    "version": 3
   },
   "file_extension": ".py",
   "mimetype": "text/x-python",
   "name": "python",
   "nbconvert_exporter": "python",
   "pygments_lexer": "ipython3",
   "version": "3.8.5"
  }
 },
 "nbformat": 4,
 "nbformat_minor": 4
}
