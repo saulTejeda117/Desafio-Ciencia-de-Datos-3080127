{
 "cells": [
  {
   "cell_type": "markdown",
   "metadata": {},
   "source": [
    "# Instrucciones"
   ]
  },
  {
   "cell_type": "markdown",
   "metadata": {},
   "source": [
    "\"Extraer solamente aquellas columnas que sean de tipo float o int(flotantes o integers).\""
   ]
  },
  {
   "cell_type": "code",
   "execution_count": 1,
   "metadata": {},
   "outputs": [],
   "source": [
    "import pandas as pd"
   ]
  },
  {
   "cell_type": "code",
   "execution_count": 3,
   "metadata": {},
   "outputs": [],
   "source": [
    "df = pd.read_csv('emisiones.csv', delimiter=\";\")"
   ]
  },
  {
   "cell_type": "code",
   "execution_count": 4,
   "metadata": {},
   "outputs": [
    {
     "name": "stdout",
     "output_type": "stream",
     "text": [
      "      Marca  Motor  Cilindros  Consumo Ciudad  Consumo Carretera  CO2\n",
      "0  Delicacy    2.1          4            13.7                9.1  290\n",
      "1    Fusion    2.6          4            12.7                8.6  327\n",
      "2  Majestic    2.0          4            13.7                9.4  382\n",
      "3    Garnet    4.3          4            14.3                9.0  347\n",
      "4       Pit    3.6          4            14.6               10.4  377\n"
     ]
    }
   ],
   "source": [
    "print(df.head(5))"
   ]
  },
  {
   "cell_type": "code",
   "execution_count": 6,
   "metadata": {},
   "outputs": [
    {
     "name": "stdout",
     "output_type": "stream",
     "text": [
      "   Motor  Consumo Ciudad  Consumo Carretera\n",
      "0    2.1            13.7                9.1\n",
      "1    2.6            12.7                8.6\n",
      "2    2.0            13.7                9.4\n",
      "3    4.3            14.3                9.0\n",
      "4    3.6            14.6               10.4\n"
     ]
    }
   ],
   "source": [
    "# Selecciona las columnas con los tipos de datos numericos con \"select_dtypes()\"\n",
    "columnas_numericas = df.select_dtypes(include=['float', 'int'])\n",
    "print(columnas_numericas.head(5))"
   ]
  }
 ],
 "metadata": {
  "kernelspec": {
   "display_name": "Python 3",
   "language": "python",
   "name": "python3"
  },
  "language_info": {
   "codemirror_mode": {
    "name": "ipython",
    "version": 3
   },
   "file_extension": ".py",
   "mimetype": "text/x-python",
   "name": "python",
   "nbconvert_exporter": "python",
   "pygments_lexer": "ipython3",
   "version": "3.8.5"
  }
 },
 "nbformat": 4,
 "nbformat_minor": 4
}
