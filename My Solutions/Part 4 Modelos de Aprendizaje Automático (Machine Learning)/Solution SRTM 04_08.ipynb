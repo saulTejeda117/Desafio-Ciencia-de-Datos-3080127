{
 "cells": [
  {
   "cell_type": "markdown",
   "metadata": {},
   "source": [
    "# Instrucciones"
   ]
  },
  {
   "cell_type": "markdown",
   "metadata": {},
   "source": [
    "\"Definir y ajustar modelo usado GradientBoostingRegressor de la librería sklearn. Evaluar el modelo con los datos de prueba. Imprimir el puntaje de R^2\""
   ]
  },
  {
   "cell_type": "code",
   "execution_count": 1,
   "metadata": {},
   "outputs": [],
   "source": [
    "from sklearn.datasets import make_regression\n",
    "from sklearn.model_selection import train_test_split\n",
    "from sklearn.ensemble import GradientBoostingRegressor\n",
    "from sklearn.metrics import r2_score"
   ]
  },
  {
   "cell_type": "code",
   "execution_count": 2,
   "metadata": {},
   "outputs": [],
   "source": [
    "# Generamos datos de regresión con make_regression\n",
    "# X contiene las características (variables independientes)\n",
    "# y contiene las etiquetas o valores objetivo (variable dependiente)\n",
    "X, y = make_regression()"
   ]
  },
  {
   "cell_type": "code",
   "execution_count": 3,
   "metadata": {},
   "outputs": [],
   "source": [
    "# Dividir los datos en conjuntos de entrenamiento y prueba\n",
    "X_train, X_test, y_train, y_test = train_test_split(X, y, test_size=0.20)"
   ]
  },
  {
   "cell_type": "code",
   "execution_count": 4,
   "metadata": {},
   "outputs": [
    {
     "name": "stdout",
     "output_type": "stream",
     "text": [
      "Coeficiente de determinación o R2:  36.815630008806544\n"
     ]
    }
   ],
   "source": [
    "# Crear una instancia del modelo GradientBoostingRegressor\n",
    "gradient_boosting_regressor = GradientBoostingRegressor()\n",
    "\n",
    "# Entrenar el modelo utilizando los datos de entrenamiento (X_train, y_train)\n",
    "gradient_boosting_regressor.fit(X_train, y_train)\n",
    "\n",
    "# Realizar predicciones en los datos de prueba (X_test)\n",
    "pred_y = gradient_boosting_regressor.predict(X_test)\n",
    "print(\"Coeficiente de determinación o R2: \", r2_score(y_test,pred_y)*100)"
   ]
  }
 ],
 "metadata": {
  "kernelspec": {
   "display_name": "Python 3",
   "language": "python",
   "name": "python3"
  },
  "language_info": {
   "codemirror_mode": {
    "name": "ipython",
    "version": 3
   },
   "file_extension": ".py",
   "mimetype": "text/x-python",
   "name": "python",
   "nbconvert_exporter": "python",
   "pygments_lexer": "ipython3",
   "version": "3.8.5"
  }
 },
 "nbformat": 4,
 "nbformat_minor": 4
}
