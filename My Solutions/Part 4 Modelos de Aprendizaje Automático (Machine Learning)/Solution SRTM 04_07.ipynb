{
 "cells": [
  {
   "cell_type": "markdown",
   "metadata": {},
   "source": [
    "# Instrucciones"
   ]
  },
  {
   "cell_type": "markdown",
   "metadata": {},
   "source": [
    "\"Detectar aquellos salarios que sean atípicos.\""
   ]
  },
  {
   "cell_type": "code",
   "execution_count": 1,
   "metadata": {},
   "outputs": [],
   "source": [
    "import pandas as pd\n",
    "from sklearn.ensemble import IsolationForest"
   ]
  },
  {
   "cell_type": "code",
   "execution_count": 2,
   "metadata": {},
   "outputs": [
    {
     "name": "stdout",
     "output_type": "stream",
     "text": [
      "      Nombre       Sexo Estado_Civil  Edad  Experiencia    Salario Gerencia  \\\n",
      "0  Alexandro  Masculino   Soltero(a)    22            3       2423       No   \n",
      "1     Felipa   Femenino   Soltero(a)    26            5       2639       No   \n",
      "2     Daniel  Masculino    Casado(a)    35           10  312200000       No   \n",
      "3       John  Masculino    Casado(a)    35           13       3431       Sí   \n",
      "4    Ruperta   Femenino    Casado(a)    54           18   39620000       No   \n",
      "\n",
      "           Departamento  \n",
      "0            Publicidad  \n",
      "1             Comercial  \n",
      "2             Comercial  \n",
      "3  Servicios al cliente  \n",
      "4              Producto  \n"
     ]
    }
   ],
   "source": [
    "df = pd.read_csv('empleados.csv', delimiter=\";\")\n",
    "print(df.head())"
   ]
  },
  {
   "cell_type": "code",
   "execution_count": 3,
   "metadata": {},
   "outputs": [
    {
     "data": {
      "text/plain": [
       "IsolationForest(random_state=42)"
      ]
     },
     "execution_count": 3,
     "metadata": {},
     "output_type": "execute_result"
    }
   ],
   "source": [
    "# Creamos una instancia de IsolationForest con una semilla aleatoria para reproducibilidad\n",
    "isolation_forest = IsolationForest(random_state=42)\n",
    "\n",
    "# Ajustamos el modelo IsolationForest a los datos de la columna 'Salario' del DataFrame 'df'\n",
    "isolation_forest.fit(df[['Salario']])"
   ]
  },
  {
   "cell_type": "code",
   "execution_count": 4,
   "metadata": {},
   "outputs": [
    {
     "name": "stdout",
     "output_type": "stream",
     "text": [
      "         Salario  Normal\n",
      "0           2423       1\n",
      "1           2639       1\n",
      "2      312200000      -1\n",
      "3           3431       1\n",
      "4       39620000      -1\n",
      "..           ...     ...\n",
      "138         2510       1\n",
      "139         2530       1\n",
      "140         2760       1\n",
      "141  36160000000      -1\n",
      "142         3245       1\n",
      "\n",
      "[143 rows x 2 columns]\n"
     ]
    }
   ],
   "source": [
    "# Predecir la etiqueta de normalidad para cada registro en función del modelo entrenado\n",
    "df['Normal'] = isolation_forest.predict(df[['Salario']])\n",
    "\n",
    "# Imprimir el DataFrame con las columnas 'Salario' y 'Normal' para observar los resultados\n",
    "print(df[['Salario', 'Normal']])"
   ]
  },
  {
   "cell_type": "code",
   "execution_count": 5,
   "metadata": {},
   "outputs": [
    {
     "name": "stdout",
     "output_type": "stream",
     "text": [
      " 1    131\n",
      "-1     12\n",
      "Name: Normal, dtype: int64\n"
     ]
    }
   ],
   "source": [
    "print(df['Normal'].value_counts())"
   ]
  }
 ],
 "metadata": {
  "kernelspec": {
   "display_name": "Python 3",
   "language": "python",
   "name": "python3"
  },
  "language_info": {
   "codemirror_mode": {
    "name": "ipython",
    "version": 3
   },
   "file_extension": ".py",
   "mimetype": "text/x-python",
   "name": "python",
   "nbconvert_exporter": "python",
   "pygments_lexer": "ipython3",
   "version": "3.8.5"
  }
 },
 "nbformat": 4,
 "nbformat_minor": 4
}
