{
 "cells": [
  {
   "cell_type": "markdown",
   "metadata": {},
   "source": [
    "# Instrucciones"
   ]
  },
  {
   "cell_type": "markdown",
   "metadata": {},
   "source": [
    "\"Usar la clase LocalOutlierFactor de scikit-learn para analizar valores atípicos en el conjunto de datos dados. Crear una nueva columna en el DataFrame llamada 'local_outlier'. En la columna 'local_outlier', guardar el resultado de la predicción y determinar si cada muestra es normal o atípica (1 normal, -1 atípico). Mostrar el toal de valores atípicos en este conjunto de datos.\""
   ]
  },
  {
   "cell_type": "code",
   "execution_count": 1,
   "metadata": {},
   "outputs": [],
   "source": [
    "import pandas as pd\n",
    "from sklearn.neighbors import LocalOutlierFactor"
   ]
  },
  {
   "cell_type": "code",
   "execution_count": 2,
   "metadata": {},
   "outputs": [
    {
     "name": "stdout",
     "output_type": "stream",
     "text": [
      "   Variable1  Variable2\n",
      "0  -4.030499  -6.955657\n",
      "1  -6.687653   7.467359\n",
      "2  -3.334960   5.775981\n",
      "3  -5.812554  -7.506389\n",
      "4  -6.648924   7.142999\n"
     ]
    }
   ],
   "source": [
    "df = pd.read_csv('datos.csv', delimiter=\";\")\n",
    "print(df.head())"
   ]
  },
  {
   "cell_type": "code",
   "execution_count": 3,
   "metadata": {},
   "outputs": [],
   "source": [
    "# Crear una instancia del estimador LocalOutlierFactor\n",
    "local_outlier_factor = LocalOutlierFactor()\n",
    "\n",
    "# Ajustar el modelo a los datos en el DataFrame 'df'\n",
    "local_outlier_factor.fit(df)\n",
    "\n",
    "# Predecir los valores de outliers locales y asignarlos a una nueva columna 'local_outlier'\n",
    "df['local_outlier'] = local_outlier_factor.fit_predict(df)"
   ]
  },
  {
   "cell_type": "code",
   "execution_count": 4,
   "metadata": {},
   "outputs": [
    {
     "name": "stdout",
     "output_type": "stream",
     "text": [
      " 1    959\n",
      "-1     41\n",
      "Name: local_outlier, dtype: int64\n"
     ]
    }
   ],
   "source": [
    "# Imprime el conteo de valores en la columna 'local_outlier' del DataFrame df.\n",
    "print(df['local_outlier'].value_counts())"
   ]
  }
 ],
 "metadata": {
  "kernelspec": {
   "display_name": "Python 3",
   "language": "python",
   "name": "python3"
  },
  "language_info": {
   "codemirror_mode": {
    "name": "ipython",
    "version": 3
   },
   "file_extension": ".py",
   "mimetype": "text/x-python",
   "name": "python",
   "nbconvert_exporter": "python",
   "pygments_lexer": "ipython3",
   "version": "3.8.5"
  }
 },
 "nbformat": 4,
 "nbformat_minor": 4
}
