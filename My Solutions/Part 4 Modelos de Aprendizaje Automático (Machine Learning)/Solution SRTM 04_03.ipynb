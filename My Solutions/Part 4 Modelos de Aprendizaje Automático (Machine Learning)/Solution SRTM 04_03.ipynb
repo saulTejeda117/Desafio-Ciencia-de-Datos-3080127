{
 "cells": [
  {
   "cell_type": "markdown",
   "metadata": {},
   "source": [
    "# Instrucciones"
   ]
  },
  {
   "cell_type": "markdown",
   "metadata": {},
   "source": [
    "\"Usar la regresión logística básica para predecir si un estudiante pasará o no un examen en función de las horas que ha estudiado.\""
   ]
  },
  {
   "cell_type": "code",
   "execution_count": 1,
   "metadata": {},
   "outputs": [],
   "source": [
    "import pandas as pd\n",
    "from sklearn.model_selection import train_test_split\n",
    "from sklearn.linear_model import LogisticRegression\n",
    "import numpy as np"
   ]
  },
  {
   "cell_type": "code",
   "execution_count": 2,
   "metadata": {},
   "outputs": [
    {
     "name": "stdout",
     "output_type": "stream",
     "text": [
      "   Horas  Puntaje\n",
      "0    1.8       22\n",
      "1    2.5       23\n",
      "2    2.8       23\n",
      "3    1.1       25\n",
      "4    1.5       26\n",
      "5    2.7       26\n",
      "6    3.8       26\n",
      "7    3.4       27\n",
      "8    3.2       28\n",
      "9    2.3       30\n"
     ]
    }
   ],
   "source": [
    "df = pd.read_csv('examenes.csv', delimiter=\";\")\n",
    "print(df.head(10))"
   ]
  },
  {
   "cell_type": "code",
   "execution_count": 3,
   "metadata": {},
   "outputs": [
    {
     "data": {
      "text/plain": [
       "LogisticRegression(max_iter=1000)"
      ]
     },
     "execution_count": 3,
     "metadata": {},
     "output_type": "execute_result"
    }
   ],
   "source": [
    "# Extraemos la columna 'Horas' como característica X y la columna 'Puntaje' como etiqueta y\n",
    "X = df['Horas'].values.reshape(-1, 1)\n",
    "y = df['Puntaje']\n",
    "\n",
    "# Dividimos los datos en conjuntos de entrenamiento y prueba (80% entrenamiento, 20% prueba)\n",
    "X_train, X_test, y_train, y_test = train_test_split(X, y, test_size=0.20)\n",
    "\n",
    "# Creamos una instancia del modelo de regresión logística con un máximo de 1000 iteraciones\n",
    "logistic_regression = LogisticRegression(max_iter=1000)\n",
    "\n",
    "# Entrenamos el modelo de regresión logística utilizando los datos de entrenamiento\n",
    "logistic_regression.fit(X_train, y_train)"
   ]
  },
  {
   "cell_type": "code",
   "execution_count": 4,
   "metadata": {},
   "outputs": [],
   "source": [
    "# Creación de un arreglo numpy con las horas de prueba\n",
    "horas_test = np.array([5, 6, 7, 8, 9, 10]).reshape(-1, 1)\n",
    "\n",
    "# Realizar predicciones utilizando el modelo de regresión logística\n",
    "y_pred = logistic_regression.predict(horas_test)"
   ]
  },
  {
   "cell_type": "code",
   "execution_count": 5,
   "metadata": {},
   "outputs": [
    {
     "name": "stdout",
     "output_type": "stream",
     "text": [
      "[69 69 69 69 69 75]\n"
     ]
    }
   ],
   "source": [
    "print(y_pred)"
   ]
  }
 ],
 "metadata": {
  "kernelspec": {
   "display_name": "Python 3",
   "language": "python",
   "name": "python3"
  },
  "language_info": {
   "codemirror_mode": {
    "name": "ipython",
    "version": 3
   },
   "file_extension": ".py",
   "mimetype": "text/x-python",
   "name": "python",
   "nbconvert_exporter": "python",
   "pygments_lexer": "ipython3",
   "version": "3.8.5"
  }
 },
 "nbformat": 4,
 "nbformat_minor": 4
}
