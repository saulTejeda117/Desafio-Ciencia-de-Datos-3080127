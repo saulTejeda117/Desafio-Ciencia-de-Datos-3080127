{
 "cells": [
  {
   "cell_type": "markdown",
   "metadata": {},
   "source": [
    "# Instrucciones"
   ]
  },
  {
   "cell_type": "markdown",
   "metadata": {},
   "source": [
    "\"Encontrar la relación entre las variables experiencia y salario, utilizando el dataframe proporcionado.\""
   ]
  },
  {
   "cell_type": "code",
   "execution_count": 1,
   "metadata": {},
   "outputs": [],
   "source": [
    "import pandas as pd\n",
    "from sklearn.linear_model import LinearRegression\n",
    "from sklearn.model_selection import train_test_split"
   ]
  },
  {
   "cell_type": "code",
   "execution_count": 2,
   "metadata": {},
   "outputs": [
    {
     "name": "stdout",
     "output_type": "stream",
     "text": [
      "      Nombre       Sexo   Estado_Civil  Edad  Experiencia  Salario Gerencia  \\\n",
      "0  Alexandro  Masculino     Soltero(a)    22            3     2423       No   \n",
      "1     Felipa   Femenino     Soltero(a)    26            5     2639       No   \n",
      "2     Daniel  Masculino      Casado(a)    35           10     3122       No   \n",
      "3       John  Masculino      Casado(a)    35           13     3431       Sí   \n",
      "4    Ruperta   Femenino      Casado(a)    54           18     3962       No   \n",
      "5  Francisca   Femenino     Soltero(a)    27            4     2564       No   \n",
      "6     Selena   Femenino      Casado(a)    24            6     2709       Sí   \n",
      "7     Ximena   Femenino     Soltero(a)    58           24     4532       No   \n",
      "8      David  Masculino  Divorciado(a)    20            1     1977       No   \n",
      "9        Max  Masculino  Divorciado(a)    39            8     2953       No   \n",
      "\n",
      "           Departamento  \n",
      "0            Publicidad  \n",
      "1             Comercial  \n",
      "2             Comercial  \n",
      "3  Servicios al cliente  \n",
      "4              Producto  \n",
      "5                    IT  \n",
      "6          Contabilidad  \n",
      "7                 Legal  \n",
      "8      Recursos Humanos  \n",
      "9                Ventas  \n"
     ]
    }
   ],
   "source": [
    "df = pd.read_csv('empleados.csv', delimiter=\";\")\n",
    "print(df.head(10))"
   ]
  },
  {
   "cell_type": "code",
   "execution_count": 3,
   "metadata": {},
   "outputs": [],
   "source": [
    "# Extraemos los valores de la columna 'Salario' como variable dependiente (y)\n",
    "y = df['Salario'].values.reshape(-1, 1)\n",
    "\n",
    "# Extraemos los valores de la columna 'Experiencia' como variable independiente (X)\n",
    "X = df['Experiencia'].values.reshape(-1, 1)\n",
    "\n",
    "# Dividimos los datos en conjuntos de entrenamiento y prueba utilizando train_test_split\n",
    "# Aquí se asigna el 80% de los datos a entrenamiento y el 20% a prueba\n",
    "X_train, X_test, y_train, y_test = train_test_split(X, y, test_size=0.20)"
   ]
  },
  {
   "cell_type": "code",
   "execution_count": 4,
   "metadata": {},
   "outputs": [],
   "source": [
    "# Crear una instancia de la clase LinearRegression\n",
    "regresion_lineal = LinearRegression()\n",
    "\n",
    "regresion_lineal.fit(X_train, y_train)"
   ]
  },
  {
   "cell_type": "code",
   "execution_count": 5,
   "metadata": {},
   "outputs": [
    {
     "name": "stdout",
     "output_type": "stream",
     "text": [
      "Coeficiente de regresión:  [[107.28961923]]\n",
      "Puntaje de regresión:  0.986488646644733\n",
      "Puntaje de regresión:  0.986488646644733\n",
      "Puntaje de regresión:  0.986488646644733\n"
     ]
    }
   ],
   "source": [
    "print('Coeficiente de regresión: ', regresion_lineal.coef_)\n",
    "print('Puntaje de regresión: ',regresion_lineal.score(X_test, y_test))\n",
    "print('Puntaje de regresión: ',regresion_lineal.score(X_test, y_test))\n",
    "print('Puntaje de regresión: ',regresion_lineal.score(X_test, y_test))"
   ]
  }
 ],
 "metadata": {
  "kernelspec": {
   "display_name": "Python 3",
   "language": "python",
   "name": "python3"
  },
  "language_info": {
   "codemirror_mode": {
    "name": "ipython",
    "version": 3
   },
   "file_extension": ".py",
   "mimetype": "text/x-python",
   "name": "python",
   "nbconvert_exporter": "python",
   "pygments_lexer": "ipython3",
   "version": "3.8.5"
  }
 },
 "nbformat": 4,
 "nbformat_minor": 4
}
