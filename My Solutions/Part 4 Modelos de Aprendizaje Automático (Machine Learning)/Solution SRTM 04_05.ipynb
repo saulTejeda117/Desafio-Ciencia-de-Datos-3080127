{
 "cells": [
  {
   "cell_type": "markdown",
   "metadata": {},
   "source": [
    "# Instrucciones"
   ]
  },
  {
   "cell_type": "markdown",
   "metadata": {},
   "source": [
    "\"Crear un modelo de clasificación usando RandomForestClassifier de scikit-learn, establecer random_state en 42. Entrenar el modelo con el conjunto de datos de entrenamiento. Imprimir la precisión del modelo. Realizar predicciones con los datos de prueba. Graficar la matriz de confusión.\""
   ]
  },
  {
   "cell_type": "code",
   "execution_count": 1,
   "metadata": {},
   "outputs": [],
   "source": [
    "from sklearn.datasets import make_classification\n",
    "from sklearn.model_selection import train_test_split\n",
    "from sklearn.ensemble import RandomForestClassifier\n",
    "from sklearn.metrics import confusion_matrix\n",
    "import seaborn as sns\n",
    "import matplotlib.pyplot as plt"
   ]
  },
  {
   "cell_type": "code",
   "execution_count": 2,
   "metadata": {},
   "outputs": [],
   "source": [
    "# Generar un conjunto de datos de clasificación sintético con 5000 muestras y 20 características, usando una semilla aleatoria (random_state=3)\n",
    "X, y = make_classification(n_samples=5000, n_features=20, random_state=3)\n",
    "\n",
    "# Dividir los datos en conjuntos de entrenamiento y prueba, usando una proporción de 70% para pruebas (test_size=0.30)\n",
    "X_train, X_test, y_train, y_test = train_test_split(X, y, test_size=0.30)"
   ]
  },
  {
   "cell_type": "code",
   "execution_count": 3,
   "metadata": {},
   "outputs": [
    {
     "data": {
      "text/plain": [
       "RandomForestClassifier(random_state=42)"
      ]
     },
     "execution_count": 3,
     "metadata": {},
     "output_type": "execute_result"
    }
   ],
   "source": [
    "# Crear una instancia del clasificador RandomForestClassifier con una semilla aleatoria para reproducibilidad\n",
    "bosques_aleatorio = RandomForestClassifier(random_state=42)\n",
    "\n",
    "# Entrenar (ajustar) el clasificador RandomForest en los datos de entrenamiento\n",
    "bosques_aleatorio.fit(X_train, y_train)"
   ]
  },
  {
   "cell_type": "code",
   "execution_count": 4,
   "metadata": {},
   "outputs": [
    {
     "name": "stdout",
     "output_type": "stream",
     "text": [
      "La precisión es  97.39999999999999\n"
     ]
    }
   ],
   "source": [
    "# Calculamos la precisión del modelo de bosques aleatorios en los datos de prueba.\n",
    "precision = bosques_aleatorio.score(X_test, y_test)\n",
    "\n",
    "# Imprimimos la precisión en forma de porcentaje.\n",
    "print('La precisión es', precision * 100)"
   ]
  },
  {
   "cell_type": "code",
   "execution_count": 5,
   "metadata": {},
   "outputs": [
    {
     "data": {
      "image/png": "[encoded data removed]",
      "text/plain": [
       "<Figure size 288x288 with 2 Axes>"
      ]
     },
     "metadata": {
      "needs_background": "light"
     },
     "output_type": "display_data"
    }
   ],
   "source": [
    "# Importar la función predict del modelo bosques_aleatorio\n",
    "y_pred = bosques_aleatorio.predict(X_test)\n",
    "\n",
    "# Calcular la matriz de confusión comparando las etiquetas reales (y_test) con las predichas (y_pred)\n",
    "matriz_confusion = confusion_matrix(y_test, y_pred)\n",
    "\n",
    "plt.subplots(figsize = (4,4))\n",
    "sns.heatmap(matriz_confusion, annot = True, fmt =\".0f\")\n",
    "plt.xlabel(\"Predicción\")\n",
    "plt.ylabel(\"Actual\")\n",
    "\n",
    "# Mostramos los resultados en la matriz de confusión\n",
    "plt.show()"
   ]
  }
 ],
 "metadata": {
  "kernelspec": {
   "display_name": "Python 3",
   "language": "python",
   "name": "python3"
  },
  "language_info": {
   "codemirror_mode": {
    "name": "ipython",
    "version": 3
   },
   "file_extension": ".py",
   "mimetype": "text/x-python",
   "name": "python",
   "nbconvert_exporter": "python",
   "pygments_lexer": "ipython3",
   "version": "3.8.5"
  }
 },
 "nbformat": 4,
 "nbformat_minor": 4
}
