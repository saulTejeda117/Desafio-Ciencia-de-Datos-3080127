{
 "cells": [
  {
   "cell_type": "markdown",
   "metadata": {},
   "source": [
    "# Instrucciones"
   ]
  },
  {
   "cell_type": "markdown",
   "metadata": {},
   "source": [
    "\"Usar la columna de asunto como variable de destino. Usar la función train_test_split() con 20% de datos para pruebas o validación. Utilizar la clase CountVectorizer para convertir la columna detalle en un vector de números. Guardar estos datos en una variable que será el set de datos para entrenamiento.\""
   ]
  },
  {
   "cell_type": "code",
   "execution_count": 1,
   "metadata": {},
   "outputs": [],
   "source": [
    "from sklearn.model_selection import train_test_split\n",
    "from sklearn.feature_extraction.text import CountVectorizer\n",
    "from sklearn.naive_bayes import MultinomialNB\n",
    "import pandas as pd\n",
    "from sklearn.metrics import accuracy_score, f1_score"
   ]
  },
  {
   "cell_type": "code",
   "execution_count": 2,
   "metadata": {},
   "outputs": [],
   "source": [
    "df = pd.read_csv('solicitudes.csv', delimiter=\";\")"
   ]
  },
  {
   "cell_type": "code",
   "execution_count": 3,
   "metadata": {},
   "outputs": [],
   "source": [
    "X = df['Asunto']\n",
    "y = df['Categoría']\n",
    "\n",
    "# Utilizamos test_size=0.2 para asignar el 20% de los datos al conjunto de prueba\n",
    "X_train, X_test, y_train, y_test = train_test_split(X, y,test_size=0.2)"
   ]
  },
  {
   "cell_type": "code",
   "execution_count": 5,
   "metadata": {},
   "outputs": [],
   "source": [
    "# Creamos una instancia de CountVectorizer, que se encargará de convertir el texto en vectores de conteo\n",
    "count_vectorizer = CountVectorizer()\n",
    "\n",
    "# Transformamos los datos de entrenamiento (X_train) en una matriz de términos y documentos usando CountVectorizer\n",
    "X_train_dtm = count_vectorizer.fit_transform(X_train)\n",
    "\n",
    "# Transformamos los datos de prueba (X_test) utilizando la misma instancia de CountVectorizer\n",
    "X_test_dtm = count_vectorizer.transform(X_test)"
   ]
  },
  {
   "cell_type": "code",
   "execution_count": 6,
   "metadata": {},
   "outputs": [
    {
     "data": {
      "text/plain": [
       "MultinomialNB()"
      ]
     },
     "execution_count": 6,
     "metadata": {},
     "output_type": "execute_result"
    }
   ],
   "source": [
    "# Crear una instancia del clasificador Naive Bayes Multinomial\n",
    "multinomial_nb = MultinomialNB()\n",
    "\n",
    "# Entrenar el clasificador utilizando los datos de entrenamiento transformados\n",
    "multinomial_nb.fit(X_train_dtm, y_train)"
   ]
  },
  {
   "cell_type": "code",
   "execution_count": 7,
   "metadata": {},
   "outputs": [],
   "source": [
    "# Realiza predicciones utilizando el modelo de Naive Bayes Multinomial\n",
    "y_pred_class = multinomia_nb.predict(X_test_dtm)"
   ]
  },
  {
   "cell_type": "code",
   "execution_count": 8,
   "metadata": {},
   "outputs": [
    {
     "name": "stdout",
     "output_type": "stream",
     "text": [
      "La precisión es:  0.6666666666666666\n",
      "F1 Score:  0.6\n"
     ]
    }
   ],
   "source": [
    "print('La precisión es: ', accuracy_score(y_test, y_pred_class))\n",
    "print('F1 Score: ', f1_score(y_test, y_pred_class, average=\"macro\"))"
   ]
  }
 ],
 "metadata": {
  "kernelspec": {
   "display_name": "Python 3",
   "language": "python",
   "name": "python3"
  },
  "language_info": {
   "codemirror_mode": {
    "name": "ipython",
    "version": 3
   },
   "file_extension": ".py",
   "mimetype": "text/x-python",
   "name": "python",
   "nbconvert_exporter": "python",
   "pygments_lexer": "ipython3",
   "version": "3.8.5"
  }
 },
 "nbformat": 4,
 "nbformat_minor": 4
}
