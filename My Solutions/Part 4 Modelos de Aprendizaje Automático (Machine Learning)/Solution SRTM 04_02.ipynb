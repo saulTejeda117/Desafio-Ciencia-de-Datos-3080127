{
 "cells": [
  {
   "cell_type": "markdown",
   "metadata": {},
   "source": [
    "# Instrucciones"
   ]
  },
  {
   "cell_type": "markdown",
   "metadata": {},
   "source": [
    "\"Predecir el dióxido de carbono que emite un automóvil a partir de su longitud, anchura y altura.\""
   ]
  },
  {
   "cell_type": "code",
   "execution_count": 1,
   "metadata": {},
   "outputs": [],
   "source": [
    "import pandas as pd\n",
    "from sklearn.linear_model import LinearRegression\n",
    "from sklearn.model_selection import train_test_split\n",
    "from sklearn import metrics\n",
    "import numpy as np"
   ]
  },
  {
   "cell_type": "code",
   "execution_count": 2,
   "metadata": {},
   "outputs": [
    {
     "name": "stdout",
     "output_type": "stream",
     "text": [
      "        Marca  Longitud  Anchura  Altura  Maletero  CO2\n",
      "0        Aero     4.495    1.840   1.540       320  294\n",
      "1  Ality Auto     4.377    1.806   1.590       439  237\n",
      "2       Amber     4.355    1.805   1.535       401  228\n",
      "3    Ape Auto     3.698    1.720   1.484       170  207\n",
      "4        Apex     4.535    1.770   1.480       624  327\n",
      "5        Axle     3.675    1.604   1.476       206  207\n",
      "6       Built     4.170    1.729   1.480       358  209\n",
      "7     Carable     3.571    1.627   1.488       185  200\n",
      "8      Carcog     4.492    1.733   1.550       573  294\n",
      "9   Cargenics     3.600    1.600   1.420       254  205\n"
     ]
    }
   ],
   "source": [
    "df = pd.read_csv('emisiones.csv', delimiter=\";\")\n",
    "print(df.head(10))"
   ]
  },
  {
   "cell_type": "code",
   "execution_count": 3,
   "metadata": {},
   "outputs": [],
   "source": [
    "# Seleccionar la columna 'CO2' como la variable objetivo (variable a predecir)\n",
    "y = df[['CO2']]\n",
    "\n",
    "# Seleccionar las columnas 'Longitud', 'Anchura' y 'Altura' como características (variables explicativas)\n",
    "X = df[['Longitud', 'Anchura', 'Altura']]\n",
    "\n",
    "# Dividir los datos en conjuntos de entrenamiento y prueba\n",
    "# Se asigna el 80% de los datos a entrenamiento y el 20% a prueba\n",
    "X_train, X_test, y_train, y_test = train_test_split(X, y, test_size=0.20)\n",
    "\n",
    "# Crear una instancia del modelo de regresión lineal\n",
    "regresion_lineal = LinearRegression()"
   ]
  },
  {
   "cell_type": "code",
   "execution_count": 4,
   "metadata": {},
   "outputs": [
    {
     "name": "stdout",
     "output_type": "stream",
     "text": [
      "Error absoluto medio:  39.30936029664625\n",
      "Error cuadrático medio:  2871.7593878966964\n",
      "Raíz del error cuadrático medio:  53.58879908989094\n"
     ]
    }
   ],
   "source": [
    "regresion_lineal.fit(X_train, y_train)\n",
    "y_pred=regresion_lineal.predict(X_test)\n",
    "\n",
    "print(\"Error absoluto medio: \", metrics.mean_absolute_error(y_test, y_pred))\n",
    "print(\"Error cuadrático medio: \", metrics.mean_squared_error(y_test, y_pred))\n",
    "print(\"Raíz del error cuadrático medio: \",np.sqrt(metrics.mean_squared_error(y_test, y_pred)))"
   ]
  }
 ],
 "metadata": {
  "kernelspec": {
   "display_name": "Python 3",
   "language": "python",
   "name": "python3"
  },
  "language_info": {
   "codemirror_mode": {
    "name": "ipython",
    "version": 3
   },
   "file_extension": ".py",
   "mimetype": "text/x-python",
   "name": "python",
   "nbconvert_exporter": "python",
   "pygments_lexer": "ipython3",
   "version": "3.8.5"
  }
 },
 "nbformat": 4,
 "nbformat_minor": 4
}
