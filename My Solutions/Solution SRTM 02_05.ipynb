{
 "cells": [
  {
   "cell_type": "markdown",
   "metadata": {},
   "source": [
    "# Instrucciones"
   ]
  },
  {
   "cell_type": "markdown",
   "metadata": {},
   "source": [
    "\"Agregar una nueva fila a nuestro dataframe\""
   ]
  },
  {
   "cell_type": "code",
   "execution_count": 1,
   "metadata": {},
   "outputs": [],
   "source": [
    "import pandas as pd"
   ]
  },
  {
   "cell_type": "code",
   "execution_count": 2,
   "metadata": {},
   "outputs": [],
   "source": [
    "df = pd.read_csv('temperaturas.csv', delimiter=\";\")"
   ]
  },
  {
   "cell_type": "code",
   "execution_count": 3,
   "metadata": {},
   "outputs": [
    {
     "name": "stdout",
     "output_type": "stream",
     "text": [
      "    Año  temperatura\n",
      "0  1960         71.4\n",
      "(62, 2)\n"
     ]
    }
   ],
   "source": [
    "print(df.head(1))\n",
    "\n",
    "print(df.shape)"
   ]
  },
  {
   "cell_type": "code",
   "execution_count": 4,
   "metadata": {},
   "outputs": [],
   "source": [
    "# Definimos nuestro nuevo registro\n",
    "nuevo_registro = {'Año': 2023, 'temperatura': 70.5}\n",
    "\n",
    "# Añadimos la información de nuestro nuevo registro \n",
    "\n",
    "df = df.append(nuevo_registro, ignore_index=True)"
   ]
  },
  {
   "cell_type": "code",
   "execution_count": 5,
   "metadata": {},
   "outputs": [],
   "source": [
    "# También es posible hacerlo con la función \".concat()\"\n",
    "\n",
    "# # Convertimos los datos a dataframe\n",
    "df_nuevo_registro = pd.DataFrame([nuevo_registro])\n",
    "\n",
    "# # Lo concatenamos a nuestro dataframe\n",
    "df = pd.concat([df, nuevo_registro], ignore_index=True)"
   ]
  },
  {
   "cell_type": "code",
   "execution_count": 6,
   "metadata": {},
   "outputs": [
    {
     "name": "stdout",
     "output_type": "stream",
     "text": [
      "Año            2023.0\n",
      "temperatura      70.5\n",
      "Name: 62, dtype: float64\n"
     ]
    }
   ],
   "source": [
    "# Mostramos la información del último registro\n",
    "rows = df.shape[0]\n",
    "print(df.loc[rows-1])"
   ]
  }
 ],
 "metadata": {
  "kernelspec": {
   "display_name": "Python 3",
   "language": "python",
   "name": "python3"
  },
  "language_info": {
   "codemirror_mode": {
    "name": "ipython",
    "version": 3
   },
   "file_extension": ".py",
   "mimetype": "text/x-python",
   "name": "python",
   "nbconvert_exporter": "python",
   "pygments_lexer": "ipython3",
   "version": "3.8.5"
  }
 },
 "nbformat": 4,
 "nbformat_minor": 4
}
