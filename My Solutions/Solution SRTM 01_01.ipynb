{
 "cells": [
  {
   "cell_type": "markdown",
   "metadata": {},
   "source": [
    "# Instrucciones"
   ]
  },
  {
   "cell_type": "markdown",
   "metadata": {},
   "source": [
    "\"Hay columnas dentro del dataframe que tienen valores NaN o None. Tu tarea es calcular el número de valores faltantes para cada columna\""
   ]
  },
  {
   "cell_type": "code",
   "execution_count": 31,
   "metadata": {},
   "outputs": [],
   "source": [
    "import pandas as pd"
   ]
  },
  {
   "cell_type": "code",
   "execution_count": 32,
   "metadata": {},
   "outputs": [],
   "source": [
    "df = pd.read_csv('empleados.csv', delimiter=\";\")"
   ]
  },
  {
   "cell_type": "code",
   "execution_count": 39,
   "metadata": {},
   "outputs": [
    {
     "name": "stdout",
     "output_type": "stream",
     "text": [
      "Column Nombre : 6\n",
      "Column Apellido : 251\n",
      "Column Sexo : 37\n",
      "Column Estado_Civil : 4\n",
      "Column Edad : 61\n",
      "Column Experiencia : 4\n",
      "Column Salario : 6\n",
      "Column Gerencia : 21\n",
      "Column Departamento : 12\n",
      "------------------------\n",
      "Total: 402\n"
     ]
    }
   ],
   "source": [
    "# Obtiene el número de columnas del dataframe \n",
    "df_columns = df.shape[1] \n",
    "total_nan = 0\n",
    "\n",
    "# Iteramos el numero de columnas \n",
    "for x in df.columns:\n",
    "    # Sumamos los datos faltantes de cada columna con '.isna().sum()'\n",
    "    column_nan = df[x].isna().sum()\n",
    "    total_nan += df[x].isna().sum()\n",
    "    print('Column', x, ':', column_nan)\n",
    "\n",
    "print('------------------------')\n",
    "print('Total:', total_nan)\n"
   ]
  }
 ],
 "metadata": {
  "kernelspec": {
   "display_name": "Python 3",
   "language": "python",
   "name": "python3"
  },
  "language_info": {
   "codemirror_mode": {
    "name": "ipython",
    "version": 3
   },
   "file_extension": ".py",
   "mimetype": "text/x-python",
   "name": "python",
   "nbconvert_exporter": "python",
   "pygments_lexer": "ipython3",
   "version": "3.8.5"
  }
 },
 "nbformat": 4,
 "nbformat_minor": 4
}
