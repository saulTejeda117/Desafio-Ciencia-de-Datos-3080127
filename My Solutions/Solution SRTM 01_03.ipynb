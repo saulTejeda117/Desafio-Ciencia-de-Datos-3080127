{
 "cells": [
  {
   "cell_type": "markdown",
   "metadata": {},
   "source": [
    "# Instrucciones"
   ]
  },
  {
   "cell_type": "markdown",
   "metadata": {},
   "source": [
    "\"Encontrar y eliminar las filas que continen valores nulos dentro de nuestro dataframe\""
   ]
  },
  {
   "cell_type": "code",
   "execution_count": 1,
   "metadata": {},
   "outputs": [],
   "source": [
    "import pandas as pd"
   ]
  },
  {
   "cell_type": "code",
   "execution_count": 2,
   "metadata": {},
   "outputs": [],
   "source": [
    "df = pd.read_csv('empleados.csv', delimiter=\";\")"
   ]
  },
  {
   "cell_type": "code",
   "execution_count": 3,
   "metadata": {
    "scrolled": true
   },
   "outputs": [
    {
     "name": "stdout",
     "output_type": "stream",
     "text": [
      "<bound method NDFrame.head of         Nombre  Apellido       Sexo   Estado_Civil  Edad  Experiencia  \\\n",
      "0    Alexandro       NaN  Masculino     Soltero(a)  22.0          3.0   \n",
      "1       Carlos       NaN  Masculino      Casado(a)  38.0         10.0   \n",
      "2       Felipa       NaN   Femenino     Soltero(a)  26.0          5.0   \n",
      "3       Daniel       NaN  Masculino      Casado(a)  35.0         10.0   \n",
      "4         John       NaN  Masculino      Casado(a)  35.0         13.0   \n",
      "..         ...       ...        ...            ...   ...          ...   \n",
      "246       Jose       NaN  Masculino      Casado(a)  30.0          6.0   \n",
      "247    Marcelo       NaN  Masculino  Divorciado(a)  44.0         15.0   \n",
      "248       Eric       NaN        NaN      Casado(a)  25.0          7.0   \n",
      "249       Marc       NaN        NaN      Casado(a)  24.0          2.0   \n",
      "250    Leandro       NaN  Masculino      Casado(a)  37.0         11.0   \n",
      "\n",
      "     Salario Gerencia          Departamento  \n",
      "0     2423.0       No            Publicidad  \n",
      "1     3132.0       Sí                   NaN  \n",
      "2     2639.0       No             Comercial  \n",
      "3     3122.0       No             Comercial  \n",
      "4     3431.0       Sí  Servicios al cliente  \n",
      "..       ...      ...                   ...  \n",
      "246   2760.0       No  Servicios al cliente  \n",
      "247   3616.0       No                    IT  \n",
      "248   2880.0       Sí      Recursos Humanos  \n",
      "249   2172.0       No              Producto  \n",
      "250   3245.0       No              Finanzas  \n",
      "\n",
      "[251 rows x 9 columns]>\n",
      "(251, 9)\n"
     ]
    }
   ],
   "source": [
    "# Primero mostramos la forma de los datos que recibimos\n",
    "print(df.head)\n",
    "print(df.shape)"
   ]
  },
  {
   "cell_type": "code",
   "execution_count": 6,
   "metadata": {
    "scrolled": true
   },
   "outputs": [
    {
     "name": "stdout",
     "output_type": "stream",
     "text": [
      "(246, 9)\n"
     ]
    }
   ],
   "source": [
    "# Se determina el numero de filas que tienen al menos 5 elementos correctos\n",
    "print(df[df.notna().sum(axis=1) >= 5].shape)"
   ]
  },
  {
   "cell_type": "code",
   "execution_count": 7,
   "metadata": {},
   "outputs": [
    {
     "name": "stdout",
     "output_type": "stream",
     "text": [
      "        Nombre  Apellido       Sexo   Estado_Civil  Edad  Experiencia  \\\n",
      "0    Alexandro       NaN  Masculino     Soltero(a)  22.0          3.0   \n",
      "1       Carlos       NaN  Masculino      Casado(a)  38.0         10.0   \n",
      "2       Felipa       NaN   Femenino     Soltero(a)  26.0          5.0   \n",
      "3       Daniel       NaN  Masculino      Casado(a)  35.0         10.0   \n",
      "4         John       NaN  Masculino      Casado(a)  35.0         13.0   \n",
      "..         ...       ...        ...            ...   ...          ...   \n",
      "246       Jose       NaN  Masculino      Casado(a)  30.0          6.0   \n",
      "247    Marcelo       NaN  Masculino  Divorciado(a)  44.0         15.0   \n",
      "248       Eric       NaN        NaN      Casado(a)  25.0          7.0   \n",
      "249       Marc       NaN        NaN      Casado(a)  24.0          2.0   \n",
      "250    Leandro       NaN  Masculino      Casado(a)  37.0         11.0   \n",
      "\n",
      "     Salario Gerencia          Departamento  \n",
      "0     2423.0       No            Publicidad  \n",
      "1     3132.0       Sí                   NaN  \n",
      "2     2639.0       No             Comercial  \n",
      "3     3122.0       No             Comercial  \n",
      "4     3431.0       Sí  Servicios al cliente  \n",
      "..       ...      ...                   ...  \n",
      "246   2760.0       No  Servicios al cliente  \n",
      "247   3616.0       No                    IT  \n",
      "248   2880.0       Sí      Recursos Humanos  \n",
      "249   2172.0       No              Producto  \n",
      "250   3245.0       No              Finanzas  \n",
      "\n",
      "[246 rows x 9 columns]\n"
     ]
    }
   ],
   "source": [
    "# Se eliminan las filas que no cumplas con esa condición\n",
    "df_actualizado = df.dropna(axis=0, thresh=5)\n",
    "print(df_actualizado)"
   ]
  }
 ],
 "metadata": {
  "kernelspec": {
   "display_name": "Python 3",
   "language": "python",
   "name": "python3"
  },
  "language_info": {
   "codemirror_mode": {
    "name": "ipython",
    "version": 3
   },
   "file_extension": ".py",
   "mimetype": "text/x-python",
   "name": "python",
   "nbconvert_exporter": "python",
   "pygments_lexer": "ipython3",
   "version": "3.8.5"
  }
 },
 "nbformat": 4,
 "nbformat_minor": 4
}
